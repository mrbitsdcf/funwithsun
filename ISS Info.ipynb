{
 "cells": [
  {
   "cell_type": "code",
   "execution_count": 11,
   "metadata": {},
   "outputs": [],
   "source": [
    "import json\n",
    "import turtle\n",
    "import urllib.request\n",
    "import turtle\n",
    "import time"
   ]
  },
  {
   "cell_type": "code",
   "execution_count": 12,
   "metadata": {},
   "outputs": [
    {
     "name": "stdout",
     "output_type": "stream",
     "text": [
      "People in space: 6\n",
      "Christina Koch is in ISS\n",
      "Alexander Skvortsov is in ISS\n",
      "Luca Parmitano is in ISS\n",
      "Andrew Morgan is in ISS\n",
      "Oleg Skripochka is in ISS\n",
      "Jessica Meir is in ISS\n"
     ]
    }
   ],
   "source": [
    "url = \"http://api.open-notify.org/astros.json\"\n",
    "response = urllib.request.urlopen(url)\n",
    "result = json.loads(response.read())\n",
    "print(\"People in space:\", result['number'])\n",
    "people = result['people']\n",
    "\n",
    "for p in people:\n",
    "    print(p['name'], \"is in\", p['craft'])"
   ]
  },
  {
   "cell_type": "code",
   "execution_count": 13,
   "metadata": {},
   "outputs": [
    {
     "name": "stdout",
     "output_type": "stream",
     "text": [
      "Latitude: -36.9426\n",
      "Longitude: -165.0936\n"
     ]
    }
   ],
   "source": [
    "url = \"http://api.open-notify.org/iss-now.json\"\n",
    "response = urllib.request.urlopen(url)\n",
    "result = json.loads(response.read())\n",
    "\n",
    "location = result['iss_position']\n",
    "lat = location['latitude']\n",
    "lon = location['longitude']\n",
    "\n",
    "print(\"Latitude:\", lat)\n",
    "print(\"Longitude:\", lon)"
   ]
  },
  {
   "cell_type": "code",
   "execution_count": 14,
   "metadata": {},
   "outputs": [],
   "source": [
    "screen = turtle.Screen()\n",
    "screen.setup(720, 360)\n",
    "screen.setworldcoordinates(-180, -90, 180, 90)\n",
    "screen.bgpic('map.gif')"
   ]
  },
  {
   "cell_type": "code",
   "execution_count": 15,
   "metadata": {},
   "outputs": [],
   "source": [
    "lat = float(lat)\n",
    "lon = float(lon)\n",
    "iss = turtle.Turtle()\n",
    "screen.register_shape('iss.gif')\n",
    "iss.shape('iss.gif')\n",
    "iss.setheading(90)\n",
    "iss.penup()\n",
    "\n",
    "iss.goto(lat, lon)"
   ]
  },
  {
   "cell_type": "code",
   "execution_count": 16,
   "metadata": {},
   "outputs": [],
   "source": [
    "lat = -23.25\n",
    "lon = -46.66\n",
    "\n",
    "location = turtle.Turtle()\n",
    "location.penup()\n",
    "location.color('yellow')\n",
    "location.goto(lon, lat)\n",
    "location.dot(5)\n",
    "location.hideturtle()"
   ]
  },
  {
   "cell_type": "code",
   "execution_count": 17,
   "metadata": {},
   "outputs": [],
   "source": [
    "url = 'http://api.open-notify.org/iss-pass.json?lat=' + str(lat) + '&lon=' + str(lon)\n",
    "response = urllib.request.urlopen(url)\n",
    "result = json.loads(response.read())\n",
    "\n",
    "over = result['response'][1]['risetime']\n",
    "location.write(time.ctime(over))"
   ]
  },
  {
   "cell_type": "code",
   "execution_count": null,
   "metadata": {},
   "outputs": [],
   "source": []
  }
 ],
 "metadata": {
  "kernelspec": {
   "display_name": "Python 3",
   "language": "python",
   "name": "python3"
  },
  "language_info": {
   "codemirror_mode": {
    "name": "ipython",
    "version": 3
   },
   "file_extension": ".py",
   "mimetype": "text/x-python",
   "name": "python",
   "nbconvert_exporter": "python",
   "pygments_lexer": "ipython3",
   "version": "3.6.8"
  }
 },
 "nbformat": 4,
 "nbformat_minor": 2
}
