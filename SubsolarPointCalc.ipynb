{
 "cells": [
  {
   "cell_type": "code",
   "execution_count": 4,
   "metadata": {},
   "outputs": [],
   "source": [
    "# Import libraries\n",
    "import ephem\n",
    "import math\n",
    "import datetime\n",
    "import geopy\n",
    "import matplotlib.pyplot as plt\n",
    "import pandas as pd\n",
    "import matplotlib\n",
    "from matplotlib.ticker import FuncFormatter\n",
    "import numpy as np"
   ]
  },
  {
   "cell_type": "code",
   "execution_count": 5,
   "metadata": {},
   "outputs": [],
   "source": [
    "# Get retina display quality for plots\n",
    "%config InlineBackend.figure_format = 'retina'"
   ]
  },
  {
   "cell_type": "code",
   "execution_count": 6,
   "metadata": {},
   "outputs": [],
   "source": [
    "# Set up observer\n",
    "home = ephem.Observer()"
   ]
  },
  {
   "cell_type": "code",
   "execution_count": 7,
   "metadata": {},
   "outputs": [],
   "source": [
    "# Change date to desired date\n",
    "home.date = '2019-01-01'"
   ]
  },
  {
   "cell_type": "code",
   "execution_count": 8,
   "metadata": {},
   "outputs": [],
   "source": [
    "# Change city name to get location coordinates or insert them manualy, in degrees\n",
    "city = 'Sao Paulo'\n",
    "\n",
    "gn = geopy.geocoders.GeoNames(username=\"mrbits\")\n",
    "\n",
    "location = gn.geocode(\"Sao Paulo\")\n",
    "\n",
    "# To set location manualy, comment the two lines bellow and uncomment the other two.\n",
    "# Set latitude and logitude in degrees\n",
    "home.lat = str(location.latitude)\n",
    "home.lon = str(location.longitude)\n",
    "\n",
    "# home.lat = -23.6\n",
    "# home.lon = -46-6"
   ]
  },
  {
   "cell_type": "code",
   "execution_count": 9,
   "metadata": {},
   "outputs": [],
   "source": [
    "# Setup the Sun\n",
    "sun = ephem.Sun()\n",
    "sun.compute(home)"
   ]
  },
  {
   "cell_type": "code",
   "execution_count": 14,
   "metadata": {},
   "outputs": [
    {
     "name": "stdout",
     "output_type": "stream",
     "text": [
      "Sunrise is at 05:22:18\n",
      "Local noon is at 12:10:02\n",
      "Sun Altitude at Local noon is: 89:26:25.7\n",
      "Sunset is at 18:57:02\n"
     ]
    }
   ],
   "source": [
    "# Compute Rising, Transit (solar noon) and set\n",
    "rising = home.previous_rising(sun).datetime()\n",
    "print('Sunrise is at {:02}:{:02}:{:02}'.format(rising.hour -3 , rising.minute, rising.second))\n",
    "\n",
    "transit = home.next_transit(sun).datetime()\n",
    "print('Local noon is at {:02}:{:02}:{:02}'.format(transit.hour - 3 , transit.minute, transit.second))\n",
    "print('Sun Altitude at Local noon is: {0}'.format(sun.alt))\n",
    "\n",
    "setting = home.next_setting(sun).datetime()\n",
    "print('Sunset is at {:02}:{:02}:{:02}'.format(setting.hour - 3, setting.minute, setting.second))"
   ]
  }
 ],
 "metadata": {
  "kernelspec": {
   "display_name": "Python 2",
   "language": "python",
   "name": "python2"
  },
  "language_info": {
   "codemirror_mode": {
    "name": "ipython",
    "version": 2
   },
   "file_extension": ".py",
   "mimetype": "text/x-python",
   "name": "python",
   "nbconvert_exporter": "python",
   "pygments_lexer": "ipython2",
   "version": "2.7.15+"
  }
 },
 "nbformat": 4,
 "nbformat_minor": 2
}
